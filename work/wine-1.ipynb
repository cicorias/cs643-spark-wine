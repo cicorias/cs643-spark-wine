{
 "cells": [
  {
   "cell_type": "code",
   "execution_count": null,
   "metadata": {},
   "outputs": [],
   "source": [
    "#!pip install jovian --upgrade --quiet"
   ]
  },
  {
   "cell_type": "code",
   "execution_count": 1,
   "metadata": {
    "_cell_guid": "79c7e3d0-c299-4dcb-8224-4455121ee9b0",
    "_uuid": "d629ff2d2480ee46fbb7e2d37f6b5fab8052498a"
   },
   "outputs": [],
   "source": [
    "import torch\n",
    "#import jovian\n",
    "import torchvision\n",
    "import matplotlib\n",
    "import torch.nn as nn\n",
    "import pandas as pd\n",
    "import matplotlib.pyplot as plt\n",
    "import seaborn as sns\n",
    "import torch.nn.functional as F\n",
    "from torchvision.datasets.utils import download_url\n",
    "from torch.utils.data import DataLoader, TensorDataset, random_split"
   ]
  },
  {
   "cell_type": "code",
   "execution_count": 2,
   "metadata": {},
   "outputs": [],
   "source": [
    "project_name='02-Wine-Quality-Prediction' # will be used by jovian.commit"
   ]
  },
  {
   "cell_type": "code",
   "execution_count": 3,
   "metadata": {},
   "outputs": [
    {
     "data": {
      "text/html": [
       "<div>\n",
       "<style scoped>\n",
       "    .dataframe tbody tr th:only-of-type {\n",
       "        vertical-align: middle;\n",
       "    }\n",
       "\n",
       "    .dataframe tbody tr th {\n",
       "        vertical-align: top;\n",
       "    }\n",
       "\n",
       "    .dataframe thead th {\n",
       "        text-align: right;\n",
       "    }\n",
       "</style>\n",
       "<table border=\"1\" class=\"dataframe\">\n",
       "  <thead>\n",
       "    <tr style=\"text-align: right;\">\n",
       "      <th></th>\n",
       "      <th>fixed acidity</th>\n",
       "      <th>volatile acidity</th>\n",
       "      <th>citric acid</th>\n",
       "      <th>residual sugar</th>\n",
       "      <th>chlorides</th>\n",
       "      <th>free sulfur dioxide</th>\n",
       "      <th>total sulfur dioxide</th>\n",
       "      <th>density</th>\n",
       "      <th>pH</th>\n",
       "      <th>sulphates</th>\n",
       "      <th>alcohol</th>\n",
       "      <th>quality</th>\n",
       "    </tr>\n",
       "  </thead>\n",
       "  <tbody>\n",
       "    <tr>\n",
       "      <th>0</th>\n",
       "      <td>8.9</td>\n",
       "      <td>0.22</td>\n",
       "      <td>0.48</td>\n",
       "      <td>1.8</td>\n",
       "      <td>0.077</td>\n",
       "      <td>29.0</td>\n",
       "      <td>60.0</td>\n",
       "      <td>0.9968</td>\n",
       "      <td>3.39</td>\n",
       "      <td>0.53</td>\n",
       "      <td>9.4</td>\n",
       "      <td>6</td>\n",
       "    </tr>\n",
       "    <tr>\n",
       "      <th>1</th>\n",
       "      <td>7.6</td>\n",
       "      <td>0.39</td>\n",
       "      <td>0.31</td>\n",
       "      <td>2.3</td>\n",
       "      <td>0.082</td>\n",
       "      <td>23.0</td>\n",
       "      <td>71.0</td>\n",
       "      <td>0.9982</td>\n",
       "      <td>3.52</td>\n",
       "      <td>0.65</td>\n",
       "      <td>9.7</td>\n",
       "      <td>5</td>\n",
       "    </tr>\n",
       "    <tr>\n",
       "      <th>2</th>\n",
       "      <td>7.9</td>\n",
       "      <td>0.43</td>\n",
       "      <td>0.21</td>\n",
       "      <td>1.6</td>\n",
       "      <td>0.106</td>\n",
       "      <td>10.0</td>\n",
       "      <td>37.0</td>\n",
       "      <td>0.9966</td>\n",
       "      <td>3.17</td>\n",
       "      <td>0.91</td>\n",
       "      <td>9.5</td>\n",
       "      <td>5</td>\n",
       "    </tr>\n",
       "    <tr>\n",
       "      <th>3</th>\n",
       "      <td>8.5</td>\n",
       "      <td>0.49</td>\n",
       "      <td>0.11</td>\n",
       "      <td>2.3</td>\n",
       "      <td>0.084</td>\n",
       "      <td>9.0</td>\n",
       "      <td>67.0</td>\n",
       "      <td>0.9968</td>\n",
       "      <td>3.17</td>\n",
       "      <td>0.53</td>\n",
       "      <td>9.4</td>\n",
       "      <td>5</td>\n",
       "    </tr>\n",
       "    <tr>\n",
       "      <th>4</th>\n",
       "      <td>6.9</td>\n",
       "      <td>0.40</td>\n",
       "      <td>0.14</td>\n",
       "      <td>2.4</td>\n",
       "      <td>0.085</td>\n",
       "      <td>21.0</td>\n",
       "      <td>40.0</td>\n",
       "      <td>0.9968</td>\n",
       "      <td>3.43</td>\n",
       "      <td>0.63</td>\n",
       "      <td>9.7</td>\n",
       "      <td>6</td>\n",
       "    </tr>\n",
       "  </tbody>\n",
       "</table>\n",
       "</div>"
      ],
      "text/plain": [
       "   fixed acidity  volatile acidity  citric acid  residual sugar  chlorides  \\\n",
       "0            8.9              0.22         0.48             1.8      0.077   \n",
       "1            7.6              0.39         0.31             2.3      0.082   \n",
       "2            7.9              0.43         0.21             1.6      0.106   \n",
       "3            8.5              0.49         0.11             2.3      0.084   \n",
       "4            6.9              0.40         0.14             2.4      0.085   \n",
       "\n",
       "   free sulfur dioxide  total sulfur dioxide  density    pH  sulphates  \\\n",
       "0                 29.0                  60.0   0.9968  3.39       0.53   \n",
       "1                 23.0                  71.0   0.9982  3.52       0.65   \n",
       "2                 10.0                  37.0   0.9966  3.17       0.91   \n",
       "3                  9.0                  67.0   0.9968  3.17       0.53   \n",
       "4                 21.0                  40.0   0.9968  3.43       0.63   \n",
       "\n",
       "   alcohol  quality  \n",
       "0      9.4        6  \n",
       "1      9.7        5  \n",
       "2      9.5        5  \n",
       "3      9.4        5  \n",
       "4      9.7        6  "
      ]
     },
     "execution_count": 3,
     "metadata": {},
     "output_type": "execute_result"
    }
   ],
   "source": [
    "dataframe_raw = pd.read_csv(\"./work/data/TrainingDataset.csv\",sep=\";\")\n",
    "dataframe_raw.head()"
   ]
  },
  {
   "cell_type": "code",
   "execution_count": 4,
   "metadata": {},
   "outputs": [
    {
     "data": {
      "text/plain": [
       "(1279, 12)"
      ]
     },
     "execution_count": 4,
     "metadata": {},
     "output_type": "execute_result"
    }
   ],
   "source": [
    "dataframe_raw.shape"
   ]
  },
  {
   "cell_type": "code",
   "execution_count": 5,
   "metadata": {},
   "outputs": [
    {
     "data": {
      "text/plain": [
       "(['fixed acidity',\n",
       "  'volatile acidity',\n",
       "  'citric acid',\n",
       "  'residual sugar',\n",
       "  'chlorides',\n",
       "  'free sulfur dioxide',\n",
       "  'total sulfur dioxide',\n",
       "  'density',\n",
       "  'pH',\n",
       "  'sulphates',\n",
       "  'alcohol'],\n",
       " ['quality'])"
      ]
     },
     "execution_count": 5,
     "metadata": {},
     "output_type": "execute_result"
    }
   ],
   "source": [
    "input_cols=list(dataframe_raw.columns)[:-1]\n",
    "output_cols = ['quality']\n",
    "input_cols,output_cols"
   ]
  },
  {
   "cell_type": "code",
   "execution_count": 6,
   "metadata": {},
   "outputs": [],
   "source": [
    "def dataframe_to_arrays(dataframe):\n",
    "    # Make a copy of the original dataframe\n",
    "    dataframe1 = dataframe_raw.copy(deep=True)\n",
    "    # Convert non-numeric categorical columns to numbers\n",
    "    #for col in categorical_cols:\n",
    "        #dataframe1[col] = dataframe1[col].astype('category').cat.codes\n",
    "    # Extract input & outupts as numpy arrays\n",
    "    inputs_array = dataframe1[input_cols].to_numpy()\n",
    "    targets_array = dataframe1[output_cols].to_numpy()\n",
    "    return inputs_array, targets_array"
   ]
  },
  {
   "cell_type": "code",
   "execution_count": 7,
   "metadata": {},
   "outputs": [
    {
     "data": {
      "text/plain": [
       "(array([[ 8.9  ,  0.22 ,  0.48 , ...,  3.39 ,  0.53 ,  9.4  ],\n",
       "        [ 7.6  ,  0.39 ,  0.31 , ...,  3.52 ,  0.65 ,  9.7  ],\n",
       "        [ 7.9  ,  0.43 ,  0.21 , ...,  3.17 ,  0.91 ,  9.5  ],\n",
       "        ...,\n",
       "        [ 6.3  ,  0.51 ,  0.13 , ...,  3.42 ,  0.75 , 11.   ],\n",
       "        [ 5.9  ,  0.645,  0.12 , ...,  3.57 ,  0.71 , 10.2  ],\n",
       "        [ 6.   ,  0.31 ,  0.47 , ...,  3.39 ,  0.66 , 11.   ]]),\n",
       " array([[6],\n",
       "        [5],\n",
       "        [5],\n",
       "        ...,\n",
       "        [6],\n",
       "        [5],\n",
       "        [6]]))"
      ]
     },
     "execution_count": 7,
     "metadata": {},
     "output_type": "execute_result"
    }
   ],
   "source": [
    "inputs_array, targets_array = dataframe_to_arrays(dataframe_raw)\n",
    "inputs_array, targets_array"
   ]
  },
  {
   "cell_type": "code",
   "execution_count": 8,
   "metadata": {},
   "outputs": [
    {
     "data": {
      "text/plain": [
       "(tensor([[ 8.9000,  0.2200,  0.4800,  ...,  3.3900,  0.5300,  9.4000],\n",
       "         [ 7.6000,  0.3900,  0.3100,  ...,  3.5200,  0.6500,  9.7000],\n",
       "         [ 7.9000,  0.4300,  0.2100,  ...,  3.1700,  0.9100,  9.5000],\n",
       "         ...,\n",
       "         [ 6.3000,  0.5100,  0.1300,  ...,  3.4200,  0.7500, 11.0000],\n",
       "         [ 5.9000,  0.6450,  0.1200,  ...,  3.5700,  0.7100, 10.2000],\n",
       "         [ 6.0000,  0.3100,  0.4700,  ...,  3.3900,  0.6600, 11.0000]]),\n",
       " tensor([[6.],\n",
       "         [5.],\n",
       "         [5.],\n",
       "         ...,\n",
       "         [6.],\n",
       "         [5.],\n",
       "         [6.]]))"
      ]
     },
     "execution_count": 8,
     "metadata": {},
     "output_type": "execute_result"
    }
   ],
   "source": [
    "inputs = torch.from_numpy(inputs_array).type(torch.float)\n",
    "targets = torch.from_numpy(targets_array).type(torch.float)\n",
    "inputs,targets"
   ]
  },
  {
   "cell_type": "code",
   "execution_count": 9,
   "metadata": {},
   "outputs": [
    {
     "name": "stdout",
     "output_type": "stream",
     "text": [
      "Shape of input tensor and target tensor::   torch.Size([1279, 11]) torch.Size([1279, 1])\n",
      "datatype of input tensor and target tensor::   torch.float32 torch.float32\n"
     ]
    }
   ],
   "source": [
    "print('Shape of input tensor and target tensor::  ',inputs.shape, targets.shape)\n",
    "print('datatype of input tensor and target tensor::  ',inputs.dtype, targets.dtype)"
   ]
  },
  {
   "cell_type": "code",
   "execution_count": 10,
   "metadata": {},
   "outputs": [
    {
     "data": {
      "text/plain": [
       "<torch.utils.data.dataset.TensorDataset at 0x150e437c0>"
      ]
     },
     "execution_count": 10,
     "metadata": {},
     "output_type": "execute_result"
    }
   ],
   "source": [
    "dataset = TensorDataset(inputs, targets)\n",
    "dataset"
   ]
  },
  {
   "cell_type": "code",
   "execution_count": 13,
   "metadata": {},
   "outputs": [],
   "source": [
    "train_ds, val_ds = random_split(dataset, [1000, 279])\n",
    "batch_size=50\n",
    "train_loader = DataLoader(train_ds, batch_size, shuffle=True)\n",
    "val_loader = DataLoader(val_ds, batch_size)"
   ]
  },
  {
   "cell_type": "code",
   "execution_count": 14,
   "metadata": {},
   "outputs": [
    {
     "name": "stdout",
     "output_type": "stream",
     "text": [
      "inputs: tensor([[6.9000e+00, 6.3000e-01, 2.0000e-02, 1.9000e+00, 7.8000e-02, 1.8000e+01,\n",
      "         3.0000e+01, 9.9712e-01, 3.4000e+00, 7.5000e-01, 9.8000e+00],\n",
      "        [9.1000e+00, 3.0000e-01, 4.1000e-01, 2.0000e+00, 6.8000e-02, 1.0000e+01,\n",
      "         2.4000e+01, 9.9523e-01, 3.2700e+00, 8.5000e-01, 1.1700e+01],\n",
      "        [9.5000e+00, 8.8500e-01, 2.7000e-01, 2.3000e+00, 8.4000e-02, 3.1000e+01,\n",
      "         1.4500e+02, 9.9780e-01, 3.2400e+00, 5.3000e-01, 9.4000e+00],\n",
      "        [7.7000e+00, 1.8000e-01, 3.4000e-01, 2.7000e+00, 6.6000e-02, 1.5000e+01,\n",
      "         5.8000e+01, 9.9470e-01, 3.3700e+00, 7.8000e-01, 1.1800e+01],\n",
      "        [7.2000e+00, 4.1000e-01, 3.0000e-01, 2.1000e+00, 8.3000e-02, 3.5000e+01,\n",
      "         7.2000e+01, 9.9700e-01, 3.4400e+00, 5.2000e-01, 9.4000e+00],\n",
      "        [9.9000e+00, 3.2000e-01, 5.6000e-01, 2.0000e+00, 7.3000e-02, 3.0000e+00,\n",
      "         8.0000e+00, 9.9534e-01, 3.1500e+00, 7.3000e-01, 1.1400e+01],\n",
      "        [1.0800e+01, 4.7000e-01, 4.3000e-01, 2.1000e+00, 1.7100e-01, 2.7000e+01,\n",
      "         6.6000e+01, 9.9820e-01, 3.1700e+00, 7.6000e-01, 1.0800e+01],\n",
      "        [7.7000e+00, 6.2000e-01, 4.0000e-02, 3.8000e+00, 8.4000e-02, 2.5000e+01,\n",
      "         4.5000e+01, 9.9780e-01, 3.3400e+00, 5.3000e-01, 9.5000e+00],\n",
      "        [6.6000e+00, 6.1000e-01, 1.0000e-02, 1.9000e+00, 8.0000e-02, 8.0000e+00,\n",
      "         2.5000e+01, 9.9746e-01, 3.6900e+00, 7.3000e-01, 1.0500e+01],\n",
      "        [6.9000e+00, 4.9000e-01, 1.0000e-01, 2.3000e+00, 7.4000e-02, 1.2000e+01,\n",
      "         3.0000e+01, 9.9590e-01, 3.4200e+00, 5.8000e-01, 1.0200e+01],\n",
      "        [9.4000e+00, 6.1500e-01, 2.8000e-01, 3.2000e+00, 8.7000e-02, 1.8000e+01,\n",
      "         7.2000e+01, 1.0001e+00, 3.3100e+00, 5.3000e-01, 9.7000e+00],\n",
      "        [7.8000e+00, 4.3000e-01, 7.0000e-01, 1.9000e+00, 4.6400e-01, 2.2000e+01,\n",
      "         6.7000e+01, 9.9740e-01, 3.1300e+00, 1.2800e+00, 9.4000e+00],\n",
      "        [6.0000e+00, 6.4000e-01, 5.0000e-02, 1.9000e+00, 6.6000e-02, 9.0000e+00,\n",
      "         1.7000e+01, 9.9496e-01, 3.5200e+00, 7.8000e-01, 1.0600e+01],\n",
      "        [8.7000e+00, 8.2000e-01, 2.0000e-02, 1.2000e+00, 7.0000e-02, 3.6000e+01,\n",
      "         4.8000e+01, 9.9520e-01, 3.2000e+00, 5.8000e-01, 9.8000e+00],\n",
      "        [6.8000e+00, 7.8500e-01, 0.0000e+00, 2.4000e+00, 1.0400e-01, 1.4000e+01,\n",
      "         3.0000e+01, 9.9660e-01, 3.5200e+00, 5.5000e-01, 1.0700e+01],\n",
      "        [5.3000e+00, 4.7000e-01, 1.1000e-01, 2.2000e+00, 4.8000e-02, 1.6000e+01,\n",
      "         8.9000e+01, 9.9182e-01, 3.5400e+00, 8.8000e-01, 1.3600e+01],\n",
      "        [6.2000e+00, 5.1000e-01, 1.4000e-01, 1.9000e+00, 5.6000e-02, 1.5000e+01,\n",
      "         3.4000e+01, 9.9396e-01, 3.4800e+00, 5.7000e-01, 1.1500e+01],\n",
      "        [1.0000e+01, 4.9000e-01, 2.0000e-01, 1.1000e+01, 7.1000e-02, 1.3000e+01,\n",
      "         5.0000e+01, 1.0015e+00, 3.1600e+00, 6.9000e-01, 9.2000e+00],\n",
      "        [7.2000e+00, 6.5500e-01, 3.0000e-02, 1.8000e+00, 7.8000e-02, 7.0000e+00,\n",
      "         1.2000e+01, 9.9587e-01, 3.3400e+00, 3.9000e-01, 9.5000e+00],\n",
      "        [7.4000e+00, 6.0000e-01, 2.6000e-01, 2.1000e+00, 8.3000e-02, 1.7000e+01,\n",
      "         9.1000e+01, 9.9616e-01, 3.2900e+00, 5.6000e-01, 9.8000e+00],\n",
      "        [1.0400e+01, 5.5000e-01, 2.3000e-01, 2.7000e+00, 9.1000e-02, 1.8000e+01,\n",
      "         4.8000e+01, 9.9940e-01, 3.2200e+00, 6.4000e-01, 1.0300e+01],\n",
      "        [7.4000e+00, 6.1000e-01, 1.0000e-02, 2.0000e+00, 7.4000e-02, 1.3000e+01,\n",
      "         3.8000e+01, 9.9748e-01, 3.4800e+00, 6.5000e-01, 9.8000e+00],\n",
      "        [7.8000e+00, 6.2000e-01, 5.0000e-02, 2.3000e+00, 7.9000e-02, 6.0000e+00,\n",
      "         1.8000e+01, 9.9735e-01, 3.2900e+00, 6.3000e-01, 9.3000e+00],\n",
      "        [6.8000e+00, 4.8000e-01, 2.5000e-01, 2.0000e+00, 7.6000e-02, 2.9000e+01,\n",
      "         6.1000e+01, 9.9530e-01, 3.3400e+00, 6.0000e-01, 1.0400e+01],\n",
      "        [9.2000e+00, 6.7000e-01, 1.0000e-01, 3.0000e+00, 9.1000e-02, 1.2000e+01,\n",
      "         4.8000e+01, 9.9888e-01, 3.3100e+00, 5.4000e-01, 9.5000e+00],\n",
      "        [7.6000e+00, 4.9000e-01, 3.3000e-01, 1.9000e+00, 7.4000e-02, 2.7000e+01,\n",
      "         8.5000e+01, 9.9706e-01, 3.4100e+00, 5.8000e-01, 9.0000e+00],\n",
      "        [6.7000e+00, 6.7000e-01, 2.0000e-02, 1.9000e+00, 6.1000e-02, 2.6000e+01,\n",
      "         4.2000e+01, 9.9489e-01, 3.3900e+00, 8.2000e-01, 1.0900e+01],\n",
      "        [1.0000e+01, 4.6000e-01, 4.4000e-01, 2.9000e+00, 6.5000e-02, 4.0000e+00,\n",
      "         8.0000e+00, 9.9674e-01, 3.3300e+00, 6.2000e-01, 1.2200e+01],\n",
      "        [6.8000e+00, 6.7000e-01, 1.5000e-01, 1.8000e+00, 1.1800e-01, 1.3000e+01,\n",
      "         2.0000e+01, 9.9540e-01, 3.4200e+00, 6.7000e-01, 1.1300e+01],\n",
      "        [7.8000e+00, 5.4500e-01, 1.2000e-01, 2.5000e+00, 6.8000e-02, 1.1000e+01,\n",
      "         3.5000e+01, 9.9600e-01, 3.3400e+00, 6.1000e-01, 1.1600e+01],\n",
      "        [7.7000e+00, 6.9000e-01, 4.9000e-01, 1.8000e+00, 1.1500e-01, 2.0000e+01,\n",
      "         1.1200e+02, 9.9680e-01, 3.2100e+00, 7.1000e-01, 9.3000e+00],\n",
      "        [6.8000e+00, 5.6000e-01, 2.2000e-01, 1.8000e+00, 7.4000e-02, 1.5000e+01,\n",
      "         2.4000e+01, 9.9438e-01, 3.4000e+00, 8.2000e-01, 1.1200e+01],\n",
      "        [1.1600e+01, 5.3000e-01, 6.6000e-01, 3.6500e+00, 1.2100e-01, 6.0000e+00,\n",
      "         1.4000e+01, 9.9780e-01, 3.0500e+00, 7.4000e-01, 1.1500e+01],\n",
      "        [1.1300e+01, 6.2000e-01, 6.7000e-01, 5.2000e+00, 8.6000e-02, 6.0000e+00,\n",
      "         1.9000e+01, 9.9880e-01, 3.2200e+00, 6.9000e-01, 1.3400e+01],\n",
      "        [9.6000e+00, 6.0000e-01, 5.0000e-01, 2.3000e+00, 7.9000e-02, 2.8000e+01,\n",
      "         7.1000e+01, 9.9970e-01, 3.5000e+00, 5.7000e-01, 9.7000e+00],\n",
      "        [7.6000e+00, 7.3500e-01, 2.0000e-02, 2.5000e+00, 7.1000e-02, 1.0000e+01,\n",
      "         1.4000e+01, 9.9538e-01, 3.5100e+00, 7.1000e-01, 1.1700e+01],\n",
      "        [7.2000e+00, 4.8000e-01, 7.0000e-02, 5.5000e+00, 8.9000e-02, 1.0000e+01,\n",
      "         1.8000e+01, 9.9684e-01, 3.3700e+00, 6.8000e-01, 1.1200e+01],\n",
      "        [7.1000e+00, 8.7500e-01, 5.0000e-02, 5.7000e+00, 8.2000e-02, 3.0000e+00,\n",
      "         1.4000e+01, 9.9808e-01, 3.4000e+00, 5.2000e-01, 1.0200e+01],\n",
      "        [6.6000e+00, 8.5500e-01, 2.0000e-02, 2.4000e+00, 6.2000e-02, 1.5000e+01,\n",
      "         2.3000e+01, 9.9627e-01, 3.5400e+00, 6.0000e-01, 1.1000e+01],\n",
      "        [1.0000e+01, 3.5000e-01, 4.7000e-01, 2.0000e+00, 6.1000e-02, 6.0000e+00,\n",
      "         1.1000e+01, 9.9585e-01, 3.2300e+00, 5.2000e-01, 1.2000e+01],\n",
      "        [6.2000e+00, 4.6000e-01, 2.9000e-01, 2.1000e+00, 7.4000e-02, 3.2000e+01,\n",
      "         9.8000e+01, 9.9578e-01, 3.3300e+00, 6.2000e-01, 9.8000e+00],\n",
      "        [6.8000e+00, 4.8000e-01, 8.0000e-02, 1.8000e+00, 7.4000e-02, 4.0000e+01,\n",
      "         6.4000e+01, 9.9529e-01, 3.1200e+00, 4.9000e-01, 9.6000e+00],\n",
      "        [9.2000e+00, 4.6000e-01, 2.3000e-01, 2.6000e+00, 9.1000e-02, 1.8000e+01,\n",
      "         7.7000e+01, 9.9922e-01, 3.1500e+00, 5.1000e-01, 9.4000e+00],\n",
      "        [8.6000e+00, 4.9000e-01, 5.1000e-01, 2.0000e+00, 4.2200e-01, 1.6000e+01,\n",
      "         6.2000e+01, 9.9790e-01, 3.0300e+00, 1.1700e+00, 9.0000e+00],\n",
      "        [7.1000e+00, 3.6000e-01, 3.0000e-01, 1.6000e+00, 8.0000e-02, 3.5000e+01,\n",
      "         7.0000e+01, 9.9693e-01, 3.4400e+00, 5.0000e-01, 9.4000e+00],\n",
      "        [8.3000e+00, 2.6000e-01, 3.7000e-01, 1.4000e+00, 7.6000e-02, 8.0000e+00,\n",
      "         2.3000e+01, 9.9740e-01, 3.2600e+00, 7.0000e-01, 9.6000e+00],\n",
      "        [7.5000e+00, 7.7000e-01, 2.0000e-01, 8.1000e+00, 9.8000e-02, 3.0000e+01,\n",
      "         9.2000e+01, 9.9892e-01, 3.2000e+00, 5.8000e-01, 9.2000e+00],\n",
      "        [1.0700e+01, 4.0000e-01, 3.7000e-01, 1.9000e+00, 8.1000e-02, 1.7000e+01,\n",
      "         2.9000e+01, 9.9674e-01, 3.1200e+00, 6.5000e-01, 1.1200e+01],\n",
      "        [7.9000e+00, 5.4500e-01, 6.0000e-02, 4.0000e+00, 8.7000e-02, 2.7000e+01,\n",
      "         6.1000e+01, 9.9650e-01, 3.3600e+00, 6.7000e-01, 1.0700e+01],\n",
      "        [8.0000e+00, 3.9000e-01, 3.0000e-01, 1.9000e+00, 7.4000e-02, 3.2000e+01,\n",
      "         8.4000e+01, 9.9717e-01, 3.3900e+00, 6.1000e-01, 9.0000e+00]])\n",
      "targets: tensor([[5.],\n",
      "        [7.],\n",
      "        [5.],\n",
      "        [6.],\n",
      "        [5.],\n",
      "        [6.],\n",
      "        [6.],\n",
      "        [5.],\n",
      "        [5.],\n",
      "        [6.],\n",
      "        [5.],\n",
      "        [5.],\n",
      "        [5.],\n",
      "        [5.],\n",
      "        [6.],\n",
      "        [7.],\n",
      "        [6.],\n",
      "        [6.],\n",
      "        [5.],\n",
      "        [6.],\n",
      "        [6.],\n",
      "        [5.],\n",
      "        [5.],\n",
      "        [5.],\n",
      "        [6.],\n",
      "        [5.],\n",
      "        [6.],\n",
      "        [6.],\n",
      "        [6.],\n",
      "        [6.],\n",
      "        [5.],\n",
      "        [6.],\n",
      "        [7.],\n",
      "        [8.],\n",
      "        [5.],\n",
      "        [7.],\n",
      "        [7.],\n",
      "        [3.],\n",
      "        [6.],\n",
      "        [6.],\n",
      "        [5.],\n",
      "        [5.],\n",
      "        [5.],\n",
      "        [5.],\n",
      "        [5.],\n",
      "        [6.],\n",
      "        [5.],\n",
      "        [6.],\n",
      "        [6.],\n",
      "        [5.]])\n"
     ]
    }
   ],
   "source": [
    "for xb, yb in train_loader:\n",
    "    print(\"inputs:\", xb)\n",
    "    print(\"targets:\", yb)\n",
    "    break"
   ]
  },
  {
   "cell_type": "code",
   "execution_count": 15,
   "metadata": {},
   "outputs": [
    {
     "name": "stdout",
     "output_type": "stream",
     "text": [
      "torch.float32 torch.float32\n"
     ]
    }
   ],
   "source": [
    " print(xb.dtype,yb.dtype)"
   ]
  },
  {
   "cell_type": "code",
   "execution_count": 16,
   "metadata": {},
   "outputs": [
    {
     "data": {
      "text/plain": [
       "(11, 1)"
      ]
     },
     "execution_count": 16,
     "metadata": {},
     "output_type": "execute_result"
    }
   ],
   "source": [
    "input_size = len(input_cols)\n",
    "output_size = len(output_cols)\n",
    "input_size,output_size"
   ]
  },
  {
   "cell_type": "code",
   "execution_count": 17,
   "metadata": {},
   "outputs": [],
   "source": [
    "class WineQuality(nn.Module):\n",
    "    def __init__(self):\n",
    "        super().__init__()\n",
    "        self.linear = nn.Linear(input_size,output_size) #???                  # fill this (hint: use input_size & output_size defined above)\n",
    "        \n",
    "    def forward(self, xb): \n",
    "        out = self.linear(xb) #???                          # fill this\n",
    "        return out\n",
    "    \n",
    "    def training_step(self, batch):\n",
    "        inputs, targets = batch \n",
    "        # Generate predictions\n",
    "        out = self(inputs)          \n",
    "        # Calcuate loss\n",
    "        loss = F.l1_loss(out,targets) #???                          # fill this\n",
    "        return loss\n",
    "    \n",
    "    def validation_step(self, batch):\n",
    "        inputs, targets = batch\n",
    "        # Generate predictions\n",
    "        out = self(inputs)\n",
    "        # Calculate loss\n",
    "        loss = F.l1_loss(out,targets) #???                           # fill this    \n",
    "        return {'val_loss': loss.detach()}\n",
    "        \n",
    "    def validation_epoch_end(self, outputs):\n",
    "        batch_losses = [x['val_loss'] for x in outputs]\n",
    "        epoch_loss = torch.stack(batch_losses).mean()   # Combine losses\n",
    "        return {'val_loss': epoch_loss.item()}\n",
    "    \n",
    "    def epoch_end(self, epoch, result, num_epochs):\n",
    "        # Print result every 100th epoch\n",
    "        if (epoch+1) % 100 == 0 or epoch == num_epochs-1:\n",
    "            print(\"Epoch [{}], val_loss: {:.4f}\".format(epoch+1, result['val_loss']))"
   ]
  },
  {
   "cell_type": "code",
   "execution_count": 18,
   "metadata": {},
   "outputs": [],
   "source": [
    "model=WineQuality()"
   ]
  },
  {
   "cell_type": "code",
   "execution_count": 19,
   "metadata": {},
   "outputs": [
    {
     "data": {
      "text/plain": [
       "[Parameter containing:\n",
       " tensor([[ 0.0448,  0.2911,  0.2448, -0.1137, -0.0592,  0.2530,  0.1340, -0.1098,\n",
       "          -0.1340,  0.1349, -0.1141]], requires_grad=True),\n",
       " Parameter containing:\n",
       " tensor([-0.2068], requires_grad=True)]"
      ]
     },
     "execution_count": 19,
     "metadata": {},
     "output_type": "execute_result"
    }
   ],
   "source": [
    "list(model.parameters())"
   ]
  },
  {
   "cell_type": "code",
   "execution_count": 20,
   "metadata": {},
   "outputs": [],
   "source": [
    "def evaluate(model, val_loader):\n",
    "    outputs = [model.validation_step(batch) for batch in val_loader]\n",
    "    return model.validation_epoch_end(outputs)\n",
    "\n",
    "def fit(epochs, lr, model, train_loader, val_loader, opt_func=torch.optim.SGD):\n",
    "    history = []\n",
    "    optimizer = opt_func(model.parameters(), lr)\n",
    "    for epoch in range(epochs):\n",
    "        # Training Phase \n",
    "        for batch in train_loader:\n",
    "            loss = model.training_step(batch)\n",
    "            loss.backward()\n",
    "            optimizer.step()\n",
    "            optimizer.zero_grad()\n",
    "        # Validation phase\n",
    "        result = evaluate(model, val_loader)\n",
    "        model.epoch_end(epoch, result, epochs)\n",
    "        history.append(result)\n",
    "    return history"
   ]
  },
  {
   "cell_type": "code",
   "execution_count": 21,
   "metadata": {},
   "outputs": [
    {
     "name": "stdout",
     "output_type": "stream",
     "text": [
      "{'val_loss': 5.524845600128174}\n"
     ]
    }
   ],
   "source": [
    "result = evaluate(model, val_loader)#??? # Use the the evaluate function\n",
    "print(result)"
   ]
  },
  {
   "cell_type": "code",
   "execution_count": 22,
   "metadata": {},
   "outputs": [
    {
     "name": "stdout",
     "output_type": "stream",
     "text": [
      "Epoch [100], val_loss: 5.3203\n",
      "Epoch [200], val_loss: 10.2135\n",
      "Epoch [300], val_loss: 5.1882\n",
      "Epoch [400], val_loss: 7.7327\n",
      "Epoch [500], val_loss: 15.3643\n",
      "Epoch [600], val_loss: 10.8923\n",
      "Epoch [700], val_loss: 12.3277\n",
      "Epoch [800], val_loss: 0.9735\n",
      "Epoch [900], val_loss: 16.4181\n",
      "Epoch [1000], val_loss: 14.8503\n"
     ]
    }
   ],
   "source": [
    "epochs = 1000 #???\n",
    "lr = 1e-2    #???\n",
    "history1 = fit(epochs, lr, model, train_loader, val_loader)"
   ]
  },
  {
   "cell_type": "code",
   "execution_count": 23,
   "metadata": {},
   "outputs": [
    {
     "name": "stdout",
     "output_type": "stream",
     "text": [
      "Epoch [100], val_loss: 1.8543\n",
      "Epoch [200], val_loss: 1.3555\n",
      "Epoch [300], val_loss: 1.4615\n",
      "Epoch [400], val_loss: 1.1161\n",
      "Epoch [500], val_loss: 1.0955\n",
      "Epoch [600], val_loss: 1.0558\n",
      "Epoch [700], val_loss: 1.6129\n",
      "Epoch [800], val_loss: 1.4521\n",
      "Epoch [900], val_loss: 1.2971\n",
      "Epoch [1000], val_loss: 1.4887\n"
     ]
    }
   ],
   "source": [
    "epochs = 1000\n",
    "lr = 1e-3\n",
    "history2 = fit(epochs, lr, model, train_loader, val_loader)"
   ]
  },
  {
   "cell_type": "code",
   "execution_count": 24,
   "metadata": {},
   "outputs": [
    {
     "name": "stdout",
     "output_type": "stream",
     "text": [
      "Epoch [100], val_loss: 0.5144\n",
      "Epoch [200], val_loss: 0.5072\n",
      "Epoch [300], val_loss: 0.5062\n",
      "Epoch [400], val_loss: 0.5095\n",
      "Epoch [500], val_loss: 0.5056\n",
      "Epoch [600], val_loss: 0.5143\n",
      "Epoch [700], val_loss: 0.5046\n",
      "Epoch [800], val_loss: 0.5040\n",
      "Epoch [900], val_loss: 0.5048\n",
      "Epoch [1000], val_loss: 0.5168\n"
     ]
    }
   ],
   "source": [
    "epochs = 1000\n",
    "lr = 1e-4\n",
    "history3 = fit(epochs, lr, model, train_loader, val_loader)"
   ]
  },
  {
   "cell_type": "code",
   "execution_count": 25,
   "metadata": {},
   "outputs": [
    {
     "name": "stdout",
     "output_type": "stream",
     "text": [
      "Epoch [100], val_loss: 0.5047\n",
      "Epoch [200], val_loss: 0.5050\n",
      "Epoch [300], val_loss: 0.5046\n",
      "Epoch [400], val_loss: 0.5049\n",
      "Epoch [500], val_loss: 0.5048\n",
      "Epoch [600], val_loss: 0.5053\n",
      "Epoch [700], val_loss: 0.5046\n",
      "Epoch [800], val_loss: 0.5046\n",
      "Epoch [900], val_loss: 0.5044\n",
      "Epoch [1000], val_loss: 0.5047\n"
     ]
    }
   ],
   "source": [
    "epochs = 1000\n",
    "lr = 1e-5\n",
    "history4 = fit(epochs, lr, model, train_loader, val_loader)"
   ]
  },
  {
   "cell_type": "code",
   "execution_count": 26,
   "metadata": {},
   "outputs": [
    {
     "name": "stdout",
     "output_type": "stream",
     "text": [
      "Epoch [100], val_loss: 0.5049\n",
      "Epoch [200], val_loss: 0.5050\n",
      "Epoch [300], val_loss: 0.5050\n",
      "Epoch [400], val_loss: 0.5050\n",
      "Epoch [500], val_loss: 0.5050\n",
      "Epoch [600], val_loss: 0.5050\n",
      "Epoch [700], val_loss: 0.5050\n",
      "Epoch [800], val_loss: 0.5050\n",
      "Epoch [900], val_loss: 0.5050\n",
      "Epoch [1000], val_loss: 0.5050\n",
      "Epoch [1100], val_loss: 0.5050\n",
      "Epoch [1200], val_loss: 0.5050\n",
      "Epoch [1300], val_loss: 0.5050\n",
      "Epoch [1400], val_loss: 0.5050\n",
      "Epoch [1500], val_loss: 0.5050\n"
     ]
    }
   ],
   "source": [
    "#model=WineQuality()\n",
    "epochs = 1500\n",
    "lr = 1e-6\n",
    "history5 = fit(epochs, lr, model, train_loader, val_loader)"
   ]
  },
  {
   "cell_type": "code",
   "execution_count": 27,
   "metadata": {},
   "outputs": [
    {
     "data": {
      "image/png": "[encoded data removed]",
      "text/plain": [
       "<Figure size 432x288 with 1 Axes>"
      ]
     },
     "metadata": {
      "needs_background": "light"
     },
     "output_type": "display_data"
    }
   ],
   "source": [
    "plt.title('val_loss vs. No. of epochs');\n",
    "loss_mat = [res['val_loss'] for res in [result] + history5]\n",
    "plt.plot(loss_mat, '-x')\n",
    "plt.xlabel('epoch')\n",
    "plt.ylabel('val_loss')\n",
    "\n",
    "val_loss = loss_mat[-1]"
   ]
  },
  {
   "cell_type": "code",
   "execution_count": 28,
   "metadata": {},
   "outputs": [],
   "source": [
    "def predict_single(input, target, model):\n",
    "    inputs = input.unsqueeze(0)\n",
    "    predictions = model(inputs)#???                # fill this\n",
    "    prediction = predictions[0].detach()\n",
    "    print(\"Input:\", input)\n",
    "    print(\"Target:\", target)\n",
    "    print(\"Prediction:\", prediction)"
   ]
  },
  {
   "cell_type": "code",
   "execution_count": 29,
   "metadata": {},
   "outputs": [
    {
     "name": "stdout",
     "output_type": "stream",
     "text": [
      "Input: tensor([7.3000e+00, 4.4000e-01, 2.0000e-01, 1.6000e+00, 4.9000e-02, 2.4000e+01,\n",
      "        6.4000e+01, 9.9350e-01, 3.3800e+00, 5.7000e-01, 1.1700e+01])\n",
      "Target: tensor([6.])\n",
      "Prediction: tensor([5.9856])\n"
     ]
    }
   ],
   "source": [
    "input, target = val_ds[10]\n",
    "predict_single(input, target, model)"
   ]
  },
  {
   "cell_type": "code",
   "execution_count": 30,
   "metadata": {},
   "outputs": [
    {
     "name": "stdout",
     "output_type": "stream",
     "text": [
      "Input: tensor([ 7.5000,  0.6000,  0.3200,  2.7000,  0.1030, 13.0000, 98.0000,  0.9994,\n",
      "         3.4500,  0.6200,  9.5000])\n",
      "Target: tensor([5.])\n",
      "Prediction: tensor([5.0347])\n"
     ]
    }
   ],
   "source": [
    "input, target = val_ds[62]\n",
    "predict_single(input, target, model)"
   ]
  },
  {
   "cell_type": "code",
   "execution_count": null,
   "metadata": {},
   "outputs": [],
   "source": []
  },
  {
   "cell_type": "code",
   "execution_count": null,
   "metadata": {},
   "outputs": [],
   "source": []
  }
 ],
 "metadata": {
  "kernelspec": {
   "display_name": "Python 3 (ipykernel)",
   "language": "python",
   "name": "python3"
  },
  "language_info": {
   "codemirror_mode": {
    "name": "ipython",
    "version": 3
   },
   "file_extension": ".py",
   "mimetype": "text/x-python",
   "name": "python",
   "nbconvert_exporter": "python",
   "pygments_lexer": "ipython3",
   "version": "3.10.6"
  }
 },
 "nbformat": 4,
 "nbformat_minor": 4
}
