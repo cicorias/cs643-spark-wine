{
 "cells": [
  {
   "cell_type": "code",
   "execution_count": null,
   "id": "3586a434-cb39-463b-ab61-e5e0c0e9749b",
   "metadata": {},
   "outputs": [],
   "source": [
    "from pyspark.sql import SparkSession\n",
    "\n",
    "# Spark session & context\n",
    "spark = SparkSession.builder.master(\"local\").getOrCreate()\n",
    "sc = spark.sparkContext\n",
    "\n",
    "# Sum of the first 100 whole numbers\n",
    "rdd = sc.parallelize(range(100 + 1))\n",
    "rdd.sum()\n",
    "# 5050"
   ]
  },
  {
   "cell_type": "code",
   "execution_count": 16,
   "id": "e3fc9a50-de61-44e9-8821-0fd6579c6706",
   "metadata": {},
   "outputs": [],
   "source": [
    "from pyspark.sql import SparkSession\n",
    "spark = SparkSession.builder.master(\"local\").getOrCreate()\n",
    "sc = spark.sparkContext\n",
    "#https://piotrszul.github.io/spark-tutorial/notebooks/3.1_ML-Introduction.html\n",
    "#TODO: remove quotes from header lines\n",
    "\n",
    "inputDF = spark.read.csv('TrainingDataset.csv',header='true', inferSchema='true', sep=';')"
   ]
  },
  {
   "cell_type": "code",
   "execution_count": 11,
   "id": "82cedfae-6661-434b-8e40-188baebdec34",
   "metadata": {},
   "outputs": [
    {
     "name": "stdout",
     "output_type": "stream",
     "text": [
      "root\n",
      " |-- fixed acidity: double (nullable = true)\n",
      " |-- volatile acidity: double (nullable = true)\n",
      " |-- citric acid: double (nullable = true)\n",
      " |-- residual sugar: double (nullable = true)\n",
      " |-- chlorides: double (nullable = true)\n",
      " |-- free sulfur dioxide: double (nullable = true)\n",
      " |-- total sulfur dioxide: double (nullable = true)\n",
      " |-- density: double (nullable = true)\n",
      " |-- pH: double (nullable = true)\n",
      " |-- sulphates: double (nullable = true)\n",
      " |-- alcohol: double (nullable = true)\n",
      " |-- quality: integer (nullable = true)\n",
      "\n",
      "Rows: 1279\n"
     ]
    }
   ],
   "source": [
    "inputDF.printSchema()\n",
    "print(\"Rows: %s\" % inputDF.count())"
   ]
  },
  {
   "cell_type": "code",
   "execution_count": 12,
   "id": "0f9e10ce-14b1-488c-9de1-2fd192dadd7b",
   "metadata": {},
   "outputs": [
    {
     "data": {
      "text/plain": [
       "[Row(fixed acidity=8.9, volatile acidity=0.22, citric acid=0.48, residual sugar=1.8, chlorides=0.077, free sulfur dioxide=29.0, total sulfur dioxide=60.0, density=0.9968, pH=3.39, sulphates=0.53, alcohol=9.4, quality=6),\n",
       " Row(fixed acidity=7.6, volatile acidity=0.39, citric acid=0.31, residual sugar=2.3, chlorides=0.082, free sulfur dioxide=23.0, total sulfur dioxide=71.0, density=0.9982, pH=3.52, sulphates=0.65, alcohol=9.7, quality=5),\n",
       " Row(fixed acidity=7.9, volatile acidity=0.43, citric acid=0.21, residual sugar=1.6, chlorides=0.106, free sulfur dioxide=10.0, total sulfur dioxide=37.0, density=0.9966, pH=3.17, sulphates=0.91, alcohol=9.5, quality=5),\n",
       " Row(fixed acidity=8.5, volatile acidity=0.49, citric acid=0.11, residual sugar=2.3, chlorides=0.084, free sulfur dioxide=9.0, total sulfur dioxide=67.0, density=0.9968, pH=3.17, sulphates=0.53, alcohol=9.4, quality=5),\n",
       " Row(fixed acidity=6.9, volatile acidity=0.4, citric acid=0.14, residual sugar=2.4, chlorides=0.085, free sulfur dioxide=21.0, total sulfur dioxide=40.0, density=0.9968, pH=3.43, sulphates=0.63, alcohol=9.7, quality=6)]"
      ]
     },
     "metadata": {},
     "output_type": "display_data"
    }
   ],
   "source": [
    "display(inputDF.head(5))"
   ]
  },
  {
   "cell_type": "code",
   "execution_count": 13,
   "id": "82c84b1e-1c30-42c6-8d6a-27b78be58e33",
   "metadata": {},
   "outputs": [
    {
     "data": {
      "text/plain": [
       "[Row(fixed acidity=6.2, volatile acidity=0.6, citric acid=0.08, residual sugar=2.0, chlorides=0.09, free sulfur dioxide=32.0, total sulfur dioxide=44.0, density=0.9949, pH=3.45, sulphates=0.58, alcohol=10.5, quality=5),\n",
       " Row(fixed acidity=5.9, volatile acidity=0.55, citric acid=0.1, residual sugar=2.2, chlorides=0.062, free sulfur dioxide=39.0, total sulfur dioxide=51.0, density=0.99512, pH=3.52, sulphates=0.76, alcohol=11.2, quality=6),\n",
       " Row(fixed acidity=6.3, volatile acidity=0.51, citric acid=0.13, residual sugar=2.3, chlorides=0.076, free sulfur dioxide=29.0, total sulfur dioxide=40.0, density=0.99574, pH=3.42, sulphates=0.75, alcohol=11.0, quality=6),\n",
       " Row(fixed acidity=5.9, volatile acidity=0.645, citric acid=0.12, residual sugar=2.0, chlorides=0.075, free sulfur dioxide=32.0, total sulfur dioxide=44.0, density=0.99547, pH=3.57, sulphates=0.71, alcohol=10.2, quality=5),\n",
       " Row(fixed acidity=6.0, volatile acidity=0.31, citric acid=0.47, residual sugar=3.6, chlorides=0.067, free sulfur dioxide=18.0, total sulfur dioxide=42.0, density=0.99549, pH=3.39, sulphates=0.66, alcohol=11.0, quality=6)]"
      ]
     },
     "metadata": {},
     "output_type": "display_data"
    }
   ],
   "source": [
    "display(inputDF.tail(5))"
   ]
  },
  {
   "cell_type": "code",
   "execution_count": 18,
   "id": "27600706-1e0a-46c0-9ef1-bec598262a69",
   "metadata": {},
   "outputs": [
    {
     "name": "stdout",
     "output_type": "stream",
     "text": [
      "+-------------+----------------+-----------+--------------+---------+-------------------+--------------------+-------+----+---------+-------+-------+\n",
      "|fixed acidity|volatile acidity|citric acid|residual sugar|chlorides|free sulfur dioxide|total sulfur dioxide|density|  pH|sulphates|alcohol|quality|\n",
      "+-------------+----------------+-----------+--------------+---------+-------------------+--------------------+-------+----+---------+-------+-------+\n",
      "|          8.9|            0.22|       0.48|           1.8|    0.077|               29.0|                60.0| 0.9968|3.39|     0.53|    9.4|      6|\n",
      "|          7.6|            0.39|       0.31|           2.3|    0.082|               23.0|                71.0| 0.9982|3.52|     0.65|    9.7|      5|\n",
      "|          7.9|            0.43|       0.21|           1.6|    0.106|               10.0|                37.0| 0.9966|3.17|     0.91|    9.5|      5|\n",
      "|          8.5|            0.49|       0.11|           2.3|    0.084|                9.0|                67.0| 0.9968|3.17|     0.53|    9.4|      5|\n",
      "|          6.9|             0.4|       0.14|           2.4|    0.085|               21.0|                40.0| 0.9968|3.43|     0.63|    9.7|      6|\n",
      "+-------------+----------------+-----------+--------------+---------+-------------------+--------------------+-------+----+---------+-------+-------+\n",
      "only showing top 5 rows\n",
      "\n"
     ]
    }
   ],
   "source": [
    "inputDF.show(5)"
   ]
  },
  {
   "cell_type": "code",
   "execution_count": null,
   "id": "e714e31a-4954-4047-9f59-405044f22925",
   "metadata": {},
   "outputs": [],
   "source": []
  }
 ],
 "metadata": {
  "kernelspec": {
   "display_name": "Python 3 (ipykernel)",
   "language": "python",
   "name": "python3"
  },
  "language_info": {
   "codemirror_mode": {
    "name": "ipython",
    "version": 3
   },
   "file_extension": ".py",
   "mimetype": "text/x-python",
   "name": "python",
   "nbconvert_exporter": "python",
   "pygments_lexer": "ipython3",
   "version": "3.10.6"
  }
 },
 "nbformat": 4,
 "nbformat_minor": 5
}
