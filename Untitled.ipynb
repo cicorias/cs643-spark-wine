{
 "cells": [
  {
   "cell_type": "code",
   "execution_count": 1,
   "id": "8e4b1f27-adbe-4b70-9d2b-9220bc6e28a7",
   "metadata": {},
   "outputs": [],
   "source": [
    "import torch"
   ]
  },
  {
   "cell_type": "code",
   "execution_count": 2,
   "id": "30694ba4-40ec-4947-bbb0-9cd7b558b8c6",
   "metadata": {},
   "outputs": [
    {
     "name": "stdout",
     "output_type": "stream",
     "text": [
      "tensor([[0.7161, 0.5136, 0.4228],\n",
      "        [0.4129, 0.4714, 0.5821],\n",
      "        [0.7771, 0.1607, 0.5537],\n",
      "        [0.5068, 0.3562, 0.6449],\n",
      "        [0.3254, 0.0958, 0.2154]])\n"
     ]
    }
   ],
   "source": [
    "x = torch.rand(5, 3)\n",
    "print(x)"
   ]
  },
  {
   "cell_type": "code",
   "execution_count": 4,
   "id": "2641f4ee-e1c6-40c1-9a1d-5aad93246690",
   "metadata": {},
   "outputs": [],
   "source": [
    "#https://medium.com/@srijaneogi31/predict-your-wine-quality-using-deep-learning-with-pytorch-424d736f0880\n",
    "import torch\n",
    "#import jovian\n",
    "import torchvision\n",
    "import matplotlib\n",
    "import torch.nn as nn\n",
    "import pandas as pd\n",
    "import matplotlib.pyplot as plt\n",
    "import seaborn as sns\n",
    "import torch.nn.functional as F\n",
    "from torchvision.datasets.utils import download_url\n",
    "from torch.utils.data import DataLoader, TensorDataset, random_split"
   ]
  },
  {
   "cell_type": "code",
   "execution_count": 6,
   "id": "7936675d-4c5a-43fe-8ae7-ab5a3e79b498",
   "metadata": {},
   "outputs": [
    {
     "data": {
      "text/html": [
       "<div>\n",
       "<style scoped>\n",
       "    .dataframe tbody tr th:only-of-type {\n",
       "        vertical-align: middle;\n",
       "    }\n",
       "\n",
       "    .dataframe tbody tr th {\n",
       "        vertical-align: top;\n",
       "    }\n",
       "\n",
       "    .dataframe thead th {\n",
       "        text-align: right;\n",
       "    }\n",
       "</style>\n",
       "<table border=\"1\" class=\"dataframe\">\n",
       "  <thead>\n",
       "    <tr style=\"text-align: right;\">\n",
       "      <th></th>\n",
       "      <th>fixed acidity</th>\n",
       "      <th>volatile acidity</th>\n",
       "      <th>citric acid</th>\n",
       "      <th>residual sugar</th>\n",
       "      <th>chlorides</th>\n",
       "      <th>free sulfur dioxide</th>\n",
       "      <th>total sulfur dioxide</th>\n",
       "      <th>density</th>\n",
       "      <th>pH</th>\n",
       "      <th>sulphates</th>\n",
       "      <th>alcohol</th>\n",
       "      <th>quality</th>\n",
       "    </tr>\n",
       "  </thead>\n",
       "  <tbody>\n",
       "    <tr>\n",
       "      <th>0</th>\n",
       "      <td>8.9</td>\n",
       "      <td>0.22</td>\n",
       "      <td>0.48</td>\n",
       "      <td>1.8</td>\n",
       "      <td>0.077</td>\n",
       "      <td>29.0</td>\n",
       "      <td>60.0</td>\n",
       "      <td>0.9968</td>\n",
       "      <td>3.39</td>\n",
       "      <td>0.53</td>\n",
       "      <td>9.4</td>\n",
       "      <td>6</td>\n",
       "    </tr>\n",
       "    <tr>\n",
       "      <th>1</th>\n",
       "      <td>7.6</td>\n",
       "      <td>0.39</td>\n",
       "      <td>0.31</td>\n",
       "      <td>2.3</td>\n",
       "      <td>0.082</td>\n",
       "      <td>23.0</td>\n",
       "      <td>71.0</td>\n",
       "      <td>0.9982</td>\n",
       "      <td>3.52</td>\n",
       "      <td>0.65</td>\n",
       "      <td>9.7</td>\n",
       "      <td>5</td>\n",
       "    </tr>\n",
       "    <tr>\n",
       "      <th>2</th>\n",
       "      <td>7.9</td>\n",
       "      <td>0.43</td>\n",
       "      <td>0.21</td>\n",
       "      <td>1.6</td>\n",
       "      <td>0.106</td>\n",
       "      <td>10.0</td>\n",
       "      <td>37.0</td>\n",
       "      <td>0.9966</td>\n",
       "      <td>3.17</td>\n",
       "      <td>0.91</td>\n",
       "      <td>9.5</td>\n",
       "      <td>5</td>\n",
       "    </tr>\n",
       "    <tr>\n",
       "      <th>3</th>\n",
       "      <td>8.5</td>\n",
       "      <td>0.49</td>\n",
       "      <td>0.11</td>\n",
       "      <td>2.3</td>\n",
       "      <td>0.084</td>\n",
       "      <td>9.0</td>\n",
       "      <td>67.0</td>\n",
       "      <td>0.9968</td>\n",
       "      <td>3.17</td>\n",
       "      <td>0.53</td>\n",
       "      <td>9.4</td>\n",
       "      <td>5</td>\n",
       "    </tr>\n",
       "    <tr>\n",
       "      <th>4</th>\n",
       "      <td>6.9</td>\n",
       "      <td>0.40</td>\n",
       "      <td>0.14</td>\n",
       "      <td>2.4</td>\n",
       "      <td>0.085</td>\n",
       "      <td>21.0</td>\n",
       "      <td>40.0</td>\n",
       "      <td>0.9968</td>\n",
       "      <td>3.43</td>\n",
       "      <td>0.63</td>\n",
       "      <td>9.7</td>\n",
       "      <td>6</td>\n",
       "    </tr>\n",
       "  </tbody>\n",
       "</table>\n",
       "</div>"
      ],
      "text/plain": [
       "   fixed acidity  volatile acidity  citric acid  residual sugar  chlorides  \\\n",
       "0            8.9              0.22         0.48             1.8      0.077   \n",
       "1            7.6              0.39         0.31             2.3      0.082   \n",
       "2            7.9              0.43         0.21             1.6      0.106   \n",
       "3            8.5              0.49         0.11             2.3      0.084   \n",
       "4            6.9              0.40         0.14             2.4      0.085   \n",
       "\n",
       "   free sulfur dioxide  total sulfur dioxide  density    pH  sulphates  \\\n",
       "0                 29.0                  60.0   0.9968  3.39       0.53   \n",
       "1                 23.0                  71.0   0.9982  3.52       0.65   \n",
       "2                 10.0                  37.0   0.9966  3.17       0.91   \n",
       "3                  9.0                  67.0   0.9968  3.17       0.53   \n",
       "4                 21.0                  40.0   0.9968  3.43       0.63   \n",
       "\n",
       "   alcohol  quality  \n",
       "0      9.4        6  \n",
       "1      9.7        5  \n",
       "2      9.5        5  \n",
       "3      9.4        5  \n",
       "4      9.7        6  "
      ]
     },
     "execution_count": 6,
     "metadata": {},
     "output_type": "execute_result"
    }
   ],
   "source": [
    "dataframe_raw = pd.read_csv(\"./work/data/TrainingDataset.csv\",sep=\";\")\n",
    "dataframe_raw.head()"
   ]
  },
  {
   "cell_type": "code",
   "execution_count": 7,
   "id": "84c40c33-a2ca-4f3f-b53a-f908f31439fa",
   "metadata": {},
   "outputs": [
    {
     "data": {
      "text/plain": [
       "(1279, 12)"
      ]
     },
     "execution_count": 7,
     "metadata": {},
     "output_type": "execute_result"
    }
   ],
   "source": [
    "dataframe_raw.shape"
   ]
  },
  {
   "cell_type": "code",
   "execution_count": 8,
   "id": "ec87c3c2-cda7-48ec-9a37-5f418734d6f2",
   "metadata": {},
   "outputs": [
    {
     "data": {
      "text/plain": [
       "(['fixed acidity',\n",
       "  'volatile acidity',\n",
       "  'citric acid',\n",
       "  'residual sugar',\n",
       "  'chlorides',\n",
       "  'free sulfur dioxide',\n",
       "  'total sulfur dioxide',\n",
       "  'density',\n",
       "  'pH',\n",
       "  'sulphates',\n",
       "  'alcohol'],\n",
       " ['quality'])"
      ]
     },
     "execution_count": 8,
     "metadata": {},
     "output_type": "execute_result"
    }
   ],
   "source": [
    "input_cols=list(dataframe_raw.columns)[:-1]\n",
    "output_cols = ['quality']\n",
    "input_cols,output_cols"
   ]
  },
  {
   "cell_type": "code",
   "execution_count": 9,
   "id": "69f56b9e-ea12-4c91-9a29-d2b9c29ed1a9",
   "metadata": {},
   "outputs": [
    {
     "data": {
      "text/plain": [
       "(array([[ 8.9  ,  0.22 ,  0.48 , ...,  3.39 ,  0.53 ,  9.4  ],\n",
       "        [ 7.6  ,  0.39 ,  0.31 , ...,  3.52 ,  0.65 ,  9.7  ],\n",
       "        [ 7.9  ,  0.43 ,  0.21 , ...,  3.17 ,  0.91 ,  9.5  ],\n",
       "        ...,\n",
       "        [ 6.3  ,  0.51 ,  0.13 , ...,  3.42 ,  0.75 , 11.   ],\n",
       "        [ 5.9  ,  0.645,  0.12 , ...,  3.57 ,  0.71 , 10.2  ],\n",
       "        [ 6.   ,  0.31 ,  0.47 , ...,  3.39 ,  0.66 , 11.   ]]),\n",
       " array([[6],\n",
       "        [5],\n",
       "        [5],\n",
       "        ...,\n",
       "        [6],\n",
       "        [5],\n",
       "        [6]]))"
      ]
     },
     "execution_count": 9,
     "metadata": {},
     "output_type": "execute_result"
    }
   ],
   "source": [
    "def dataframe_to_arrays(dataframe):\n",
    "    # Make a copy of the original dataframe\n",
    "    dataframe1 = dataframe_raw.copy(deep=True)\n",
    "    # Convert non-numeric categorical columns to numbers\n",
    "    #for col in categorical_cols:\n",
    "        #dataframe1[col] = dataframe1[col].astype('category').cat.codes\n",
    "    # Extract input & outupts as numpy arrays\n",
    "    inputs_array = dataframe1[input_cols].to_numpy()\n",
    "    targets_array = dataframe1[output_cols].to_numpy()\n",
    "    return inputs_array, targets_array\n",
    "\n",
    "inputs_array, targets_array = dataframe_to_arrays(dataframe_raw)\n",
    "inputs_array, targets_array"
   ]
  },
  {
   "cell_type": "code",
   "execution_count": 10,
   "id": "80108a16-4e20-4030-80c0-d76c6bfe1dd7",
   "metadata": {},
   "outputs": [
    {
     "data": {
      "text/plain": [
       "(tensor([[ 8.9000,  0.2200,  0.4800,  ...,  3.3900,  0.5300,  9.4000],\n",
       "         [ 7.6000,  0.3900,  0.3100,  ...,  3.5200,  0.6500,  9.7000],\n",
       "         [ 7.9000,  0.4300,  0.2100,  ...,  3.1700,  0.9100,  9.5000],\n",
       "         ...,\n",
       "         [ 6.3000,  0.5100,  0.1300,  ...,  3.4200,  0.7500, 11.0000],\n",
       "         [ 5.9000,  0.6450,  0.1200,  ...,  3.5700,  0.7100, 10.2000],\n",
       "         [ 6.0000,  0.3100,  0.4700,  ...,  3.3900,  0.6600, 11.0000]]),\n",
       " tensor([[6.],\n",
       "         [5.],\n",
       "         [5.],\n",
       "         ...,\n",
       "         [6.],\n",
       "         [5.],\n",
       "         [6.]]))"
      ]
     },
     "execution_count": 10,
     "metadata": {},
     "output_type": "execute_result"
    }
   ],
   "source": [
    "inputs = torch.from_numpy(inputs_array).type(torch.float)\n",
    "targets = torch.from_numpy(targets_array).type(torch.float)\n",
    "inputs,targets"
   ]
  },
  {
   "cell_type": "code",
   "execution_count": 11,
   "id": "1bccc725-e028-471d-ac2e-f335b75fc45c",
   "metadata": {},
   "outputs": [
    {
     "name": "stdout",
     "output_type": "stream",
     "text": [
      "Shape of input tensor and target tensor::   torch.Size([1279, 11]) torch.Size([1279, 1])\n",
      "datatype of input tensor and target tensor::   torch.float32 torch.float32\n"
     ]
    }
   ],
   "source": [
    "print('Shape of input tensor and target tensor::  ',inputs.shape, targets.shape)\n",
    "print('datatype of input tensor and target tensor::  ',inputs.dtype, targets.dtype)"
   ]
  },
  {
   "cell_type": "code",
   "execution_count": 15,
   "id": "a2573b0d-821e-4c42-8134-c99da236698d",
   "metadata": {},
   "outputs": [
    {
     "data": {
      "text/plain": [
       "<torch.utils.data.dataset.TensorDataset at 0x160495310>"
      ]
     },
     "execution_count": 15,
     "metadata": {},
     "output_type": "execute_result"
    }
   ],
   "source": [
    "dataset = TensorDataset(inputs, targets)\n",
    "dataset"
   ]
  },
  {
   "cell_type": "code",
   "execution_count": 16,
   "id": "db996807-a49f-48a5-9012-b00d452ec522",
   "metadata": {},
   "outputs": [],
   "source": [
    "train_ds, val_ds = random_split(dataset, [1000, 279])\n",
    "batch_size=50\n",
    "train_loader = DataLoader(train_ds, batch_size, shuffle=True)\n",
    "val_loader = DataLoader(val_ds, batch_size)"
   ]
  },
  {
   "cell_type": "code",
   "execution_count": 17,
   "id": "be983dd9-29fa-4a4a-b401-d164f79e3828",
   "metadata": {},
   "outputs": [
    {
     "ename": "NameError",
     "evalue": "name 'xb' is not defined",
     "output_type": "error",
     "traceback": [
      "\u001b[0;31m---------------------------------------------------------------------------\u001b[0m",
      "\u001b[0;31mNameError\u001b[0m                                 Traceback (most recent call last)",
      "Input \u001b[0;32mIn [17]\u001b[0m, in \u001b[0;36m<cell line: 1>\u001b[0;34m()\u001b[0m\n\u001b[0;32m----> 1\u001b[0m \u001b[38;5;28mprint\u001b[39m(\u001b[43mxb\u001b[49m\u001b[38;5;241m.\u001b[39mdtype,yb\u001b[38;5;241m.\u001b[39mdtype)\n",
      "\u001b[0;31mNameError\u001b[0m: name 'xb' is not defined"
     ]
    }
   ],
   "source": [
    " print(xb.dtype,yb.dtype)"
   ]
  },
  {
   "cell_type": "code",
   "execution_count": 18,
   "id": "25d761f0-559a-47ef-80d1-96aef3a65664",
   "metadata": {},
   "outputs": [
    {
     "data": {
      "text/plain": [
       "(11, 1)"
      ]
     },
     "execution_count": 18,
     "metadata": {},
     "output_type": "execute_result"
    }
   ],
   "source": [
    "input_size = len(input_cols)\n",
    "output_size = len(output_cols)\n",
    "input_size,output_size"
   ]
  },
  {
   "cell_type": "code",
   "execution_count": 19,
   "id": "4f1eec2b-5c2d-4186-a3da-f6f46565bd13",
   "metadata": {},
   "outputs": [],
   "source": [
    "class WineQuality(nn.Module):\n",
    "    def __init__(self):\n",
    "        super().__init__()\n",
    "        self.linear = nn.Linear(input_size,output_size) #???                  # fill this (hint: use input_size & output_size defined above)\n",
    "        \n",
    "    def forward(self, xb): \n",
    "        out = self.linear(xb) #???                          # fill this\n",
    "        return out\n",
    "    \n",
    "    def training_step(self, batch):\n",
    "        inputs, targets = batch \n",
    "        # Generate predictions\n",
    "        out = self(inputs)          \n",
    "        # Calcuate loss\n",
    "        loss = F.l1_loss(out,targets) #???                          # fill this\n",
    "        return loss\n",
    "    \n",
    "    def validation_step(self, batch):\n",
    "        inputs, targets = batch\n",
    "        # Generate predictions\n",
    "        out = self(inputs)\n",
    "        # Calculate loss\n",
    "        loss = F.l1_loss(out,targets) #???                           # fill this    \n",
    "        return {'val_loss': loss.detach()}\n",
    "        \n",
    "    def validation_epoch_end(self, outputs):\n",
    "        batch_losses = [x['val_loss'] for x in outputs]\n",
    "        epoch_loss = torch.stack(batch_losses).mean()   # Combine losses\n",
    "        return {'val_loss': epoch_loss.item()}\n",
    "    \n",
    "    def epoch_end(self, epoch, result, num_epochs):\n",
    "        # Print result every 100th epoch\n",
    "        if (epoch+1) % 100 == 0 or epoch == num_epochs-1:\n",
    "            print(\"Epoch [{}], val_loss: {:.4f}\".format(epoch+1, result['val_loss']))\n",
    "            \n",
    "\n",
    "model=WineQuality()"
   ]
  },
  {
   "cell_type": "code",
   "execution_count": 20,
   "id": "ee14688c-bc72-4db7-b6b3-182da1ff3fab",
   "metadata": {},
   "outputs": [],
   "source": [
    "def evaluate(model, val_loader):\n",
    "    outputs = [model.validation_step(batch) for batch in val_loader]\n",
    "    return model.validation_epoch_end(outputs)\n",
    "\n",
    "def fit(epochs, lr, model, train_loader, val_loader, opt_func=torch.optim.SGD):\n",
    "    history = []\n",
    "    optimizer = opt_func(model.parameters(), lr)\n",
    "    for epoch in range(epochs):\n",
    "        # Training Phase \n",
    "        for batch in train_loader:\n",
    "            loss = model.training_step(batch)\n",
    "            loss.backward()\n",
    "            optimizer.step()\n",
    "            optimizer.zero_grad()\n",
    "        # Validation phase\n",
    "        result = evaluate(model, val_loader)\n",
    "        model.epoch_end(epoch, result, epochs)\n",
    "        history.append(result)\n",
    "    return history\n",
    "\n"
   ]
  },
  {
   "cell_type": "code",
   "execution_count": 21,
   "id": "fbcc0339-8218-4530-9793-b411aa8ba1de",
   "metadata": {},
   "outputs": [
    {
     "name": "stdout",
     "output_type": "stream",
     "text": [
      "Epoch [100], val_loss: 3.7550\n",
      "Epoch [200], val_loss: 2.4120\n",
      "Epoch [300], val_loss: 2.2928\n",
      "Epoch [400], val_loss: 2.2068\n",
      "Epoch [500], val_loss: 2.1258\n",
      "Epoch [600], val_loss: 2.0472\n",
      "Epoch [700], val_loss: 1.9714\n",
      "Epoch [800], val_loss: 1.8990\n",
      "Epoch [900], val_loss: 1.8266\n",
      "Epoch [1000], val_loss: 1.7564\n",
      "Epoch [1100], val_loss: 1.6856\n",
      "Epoch [1200], val_loss: 1.6173\n",
      "Epoch [1300], val_loss: 1.5526\n",
      "Epoch [1400], val_loss: 1.4886\n",
      "Epoch [1500], val_loss: 1.4264\n"
     ]
    }
   ],
   "source": [
    "#model=WineQuality()\n",
    "epochs = 1500\n",
    "lr = 1e-6\n",
    "history5 = fit(epochs, lr, model, train_loader, val_loader)"
   ]
  },
  {
   "cell_type": "code",
   "execution_count": 22,
   "id": "d20a4c6e-691e-44cf-bf65-247b74bc7c75",
   "metadata": {},
   "outputs": [
    {
     "ename": "NameError",
     "evalue": "name 'result' is not defined",
     "output_type": "error",
     "traceback": [
      "\u001b[0;31m---------------------------------------------------------------------------\u001b[0m",
      "\u001b[0;31mNameError\u001b[0m                                 Traceback (most recent call last)",
      "Input \u001b[0;32mIn [22]\u001b[0m, in \u001b[0;36m<cell line: 2>\u001b[0;34m()\u001b[0m\n\u001b[1;32m      1\u001b[0m plt\u001b[38;5;241m.\u001b[39mtitle(\u001b[38;5;124m'\u001b[39m\u001b[38;5;124mval_loss vs. No. of epochs\u001b[39m\u001b[38;5;124m'\u001b[39m);\n\u001b[0;32m----> 2\u001b[0m loss_mat \u001b[38;5;241m=\u001b[39m [res[\u001b[38;5;124m'\u001b[39m\u001b[38;5;124mval_loss\u001b[39m\u001b[38;5;124m'\u001b[39m] \u001b[38;5;28;01mfor\u001b[39;00m res \u001b[38;5;129;01min\u001b[39;00m [\u001b[43mresult\u001b[49m] \u001b[38;5;241m+\u001b[39m history5]\n\u001b[1;32m      3\u001b[0m plt\u001b[38;5;241m.\u001b[39mplot(loss_mat, \u001b[38;5;124m'\u001b[39m\u001b[38;5;124m-x\u001b[39m\u001b[38;5;124m'\u001b[39m)\n\u001b[1;32m      4\u001b[0m plt\u001b[38;5;241m.\u001b[39mxlabel(\u001b[38;5;124m'\u001b[39m\u001b[38;5;124mepoch\u001b[39m\u001b[38;5;124m'\u001b[39m)\n",
      "\u001b[0;31mNameError\u001b[0m: name 'result' is not defined"
     ]
    },
    {
     "data": {
      "image/png": "[encoded data removed]",
      "text/plain": [
       "<Figure size 432x288 with 1 Axes>"
      ]
     },
     "metadata": {
      "needs_background": "light"
     },
     "output_type": "display_data"
    }
   ],
   "source": [
    "plt.title('val_loss vs. No. of epochs');\n",
    "loss_mat = [res['val_loss'] for res in [result] + history5]\n",
    "plt.plot(loss_mat, '-x')\n",
    "plt.xlabel('epoch')\n",
    "plt.ylabel('val_loss')\n",
    "\n",
    "val_loss = loss_mat[-1]"
   ]
  },
  {
   "cell_type": "code",
   "execution_count": null,
   "id": "cc5b6e20-f775-486d-a9bf-2d7c0209a926",
   "metadata": {},
   "outputs": [],
   "source": []
  }
 ],
 "metadata": {
  "kernelspec": {
   "display_name": "Python 3.9.12 64-bit ('base')",
   "language": "python",
   "name": "python3"
  },
  "language_info": {
   "codemirror_mode": {
    "name": "ipython",
    "version": 3
   },
   "file_extension": ".py",
   "mimetype": "text/x-python",
   "name": "python",
   "nbconvert_exporter": "python",
   "pygments_lexer": "ipython3",
   "version": "3.9.12"
  },
  "vscode": {
   "interpreter": {
    "hash": "6d172561353a24d40f0258cd6451a40eb4a87f2e5953ab30ddd340e6d3900e06"
   }
  }
 },
 "nbformat": 4,
 "nbformat_minor": 5
}
